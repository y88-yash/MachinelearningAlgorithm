{
 "cells": [
  {
   "cell_type": "code",
   "execution_count": 3,
   "id": "2fa69d9c",
   "metadata": {},
   "outputs": [],
   "source": [
    "#y=mx+c\n",
    "#m=sum(x-xbar*y-ybar)/sum(x-xbar)^2\n",
    "#c=ybar-mxbar"
   ]
  },
  {
   "cell_type": "code",
   "execution_count": 4,
   "id": "3d71d8a0",
   "metadata": {},
   "outputs": [],
   "source": [
    "x=[30,28,32,25,25,25,22,24,35,40]"
   ]
  },
  {
   "cell_type": "code",
   "execution_count": 83,
   "id": "ebdfd8a0",
   "metadata": {},
   "outputs": [],
   "source": [
    "g=sum(x)"
   ]
  },
  {
   "cell_type": "code",
   "execution_count": 84,
   "id": "48e8c7bd",
   "metadata": {},
   "outputs": [
    {
     "data": {
      "text/plain": [
       "286"
      ]
     },
     "execution_count": 84,
     "metadata": {},
     "output_type": "execute_result"
    }
   ],
   "source": [
    "g"
   ]
  },
  {
   "cell_type": "code",
   "execution_count": 5,
   "id": "2a6adf2c",
   "metadata": {},
   "outputs": [],
   "source": [
    "y=[25,30,27,40,42,40,50,45,30,25]"
   ]
  },
  {
   "cell_type": "code",
   "execution_count": 81,
   "id": "3c978018",
   "metadata": {},
   "outputs": [],
   "source": [
    "f=sum(y)"
   ]
  },
  {
   "cell_type": "code",
   "execution_count": 82,
   "id": "e3ce1243",
   "metadata": {},
   "outputs": [
    {
     "data": {
      "text/plain": [
       "354"
      ]
     },
     "execution_count": 82,
     "metadata": {},
     "output_type": "execute_result"
    }
   ],
   "source": [
    "f"
   ]
  },
  {
   "cell_type": "code",
   "execution_count": 6,
   "id": "148b8107",
   "metadata": {},
   "outputs": [
    {
     "data": {
      "text/plain": [
       "[25, 30, 27, 40, 42, 40, 50, 45, 30, 25]"
      ]
     },
     "execution_count": 6,
     "metadata": {},
     "output_type": "execute_result"
    }
   ],
   "source": [
    "y"
   ]
  },
  {
   "cell_type": "code",
   "execution_count": 7,
   "id": "0e289fb1",
   "metadata": {},
   "outputs": [
    {
     "data": {
      "text/plain": [
       "[30, 28, 32, 25, 25, 25, 22, 24, 35, 40]"
      ]
     },
     "execution_count": 7,
     "metadata": {},
     "output_type": "execute_result"
    }
   ],
   "source": [
    "x"
   ]
  },
  {
   "cell_type": "code",
   "execution_count": 8,
   "id": "06b8f8cb",
   "metadata": {},
   "outputs": [],
   "source": [
    "xbar=sum(x)/len(x)"
   ]
  },
  {
   "cell_type": "code",
   "execution_count": 9,
   "id": "852f90de",
   "metadata": {},
   "outputs": [
    {
     "data": {
      "text/plain": [
       "28.6"
      ]
     },
     "execution_count": 9,
     "metadata": {},
     "output_type": "execute_result"
    }
   ],
   "source": [
    "xbar"
   ]
  },
  {
   "cell_type": "code",
   "execution_count": 11,
   "id": "8b7dce24",
   "metadata": {},
   "outputs": [],
   "source": [
    "ybar=sum(y)/len(y)"
   ]
  },
  {
   "cell_type": "code",
   "execution_count": 12,
   "id": "e2f7c86a",
   "metadata": {},
   "outputs": [
    {
     "data": {
      "text/plain": [
       "35.4"
      ]
     },
     "execution_count": 12,
     "metadata": {},
     "output_type": "execute_result"
    }
   ],
   "source": [
    "ybar"
   ]
  },
  {
   "cell_type": "code",
   "execution_count": 21,
   "id": "7d8a6c17",
   "metadata": {},
   "outputs": [],
   "source": [
    "x_xbar=[round((x[i]-xbar),2) for i in range(len(x))]"
   ]
  },
  {
   "cell_type": "code",
   "execution_count": 22,
   "id": "5f997733",
   "metadata": {},
   "outputs": [
    {
     "data": {
      "text/plain": [
       "[1.4, -0.6, 3.4, -3.6, -3.6, -3.6, -6.6, -4.6, 6.4, 11.4]"
      ]
     },
     "execution_count": 22,
     "metadata": {},
     "output_type": "execute_result"
    }
   ],
   "source": [
    "x_xbar"
   ]
  },
  {
   "cell_type": "code",
   "execution_count": 23,
   "id": "0dddc531",
   "metadata": {},
   "outputs": [],
   "source": [
    "y_ybar=[round((y[i]-ybar),2) for i in range(len(y))]"
   ]
  },
  {
   "cell_type": "code",
   "execution_count": 24,
   "id": "273a1d2e",
   "metadata": {},
   "outputs": [
    {
     "data": {
      "text/plain": [
       "[-10.4, -5.4, -8.4, 4.6, 6.6, 4.6, 14.6, 9.6, -5.4, -10.4]"
      ]
     },
     "execution_count": 24,
     "metadata": {},
     "output_type": "execute_result"
    }
   ],
   "source": [
    "y_ybar"
   ]
  },
  {
   "cell_type": "code",
   "execution_count": 25,
   "id": "b7b9aa1d",
   "metadata": {},
   "outputs": [],
   "source": [
    "x_xbarintoy_ybar=[round((x_xbar[i]*y_ybar[i]),2) for i in range(len(x))]"
   ]
  },
  {
   "cell_type": "code",
   "execution_count": 26,
   "id": "83ee04e8",
   "metadata": {},
   "outputs": [
    {
     "data": {
      "text/plain": [
       "[-14.56, 3.24, -28.56, -16.56, -23.76, -16.56, -96.36, -44.16, -34.56, -118.56]"
      ]
     },
     "execution_count": 26,
     "metadata": {},
     "output_type": "execute_result"
    }
   ],
   "source": [
    "x_xbarintoy_ybar"
   ]
  },
  {
   "cell_type": "code",
   "execution_count": 27,
   "id": "1d2b50ff",
   "metadata": {},
   "outputs": [
    {
     "data": {
      "text/plain": [
       "-390.40000000000003"
      ]
     },
     "execution_count": 27,
     "metadata": {},
     "output_type": "execute_result"
    }
   ],
   "source": [
    "a=sum(x_xbarintoy_ybar)\n",
    "a"
   ]
  },
  {
   "cell_type": "code",
   "execution_count": 32,
   "id": "b79e9a16",
   "metadata": {},
   "outputs": [],
   "source": [
    "x_xbarintox_xbar=[round((x_xbar[i] * x_xbar[i] ),2) for i in range(len(x))]"
   ]
  },
  {
   "cell_type": "code",
   "execution_count": 33,
   "id": "62d7e6c6",
   "metadata": {},
   "outputs": [
    {
     "data": {
      "text/plain": [
       "[1.96, 0.36, 11.56, 12.96, 12.96, 12.96, 43.56, 21.16, 40.96, 129.96]"
      ]
     },
     "execution_count": 33,
     "metadata": {},
     "output_type": "execute_result"
    }
   ],
   "source": [
    "x_xbarintox_xbar"
   ]
  },
  {
   "cell_type": "code",
   "execution_count": 34,
   "id": "fa4a9a35",
   "metadata": {},
   "outputs": [],
   "source": [
    "b=sum(x_xbarintox_xbar)"
   ]
  },
  {
   "cell_type": "code",
   "execution_count": 35,
   "id": "537ad7d7",
   "metadata": {},
   "outputs": [
    {
     "data": {
      "text/plain": [
       "288.4"
      ]
     },
     "execution_count": 35,
     "metadata": {},
     "output_type": "execute_result"
    }
   ],
   "source": [
    "b"
   ]
  },
  {
   "cell_type": "code",
   "execution_count": 38,
   "id": "8b2657bb",
   "metadata": {},
   "outputs": [],
   "source": [
    "m=round((a/b),2)"
   ]
  },
  {
   "cell_type": "code",
   "execution_count": 39,
   "id": "4f2ff737",
   "metadata": {},
   "outputs": [
    {
     "data": {
      "text/plain": [
       "-1.35"
      ]
     },
     "execution_count": 39,
     "metadata": {},
     "output_type": "execute_result"
    }
   ],
   "source": [
    "m"
   ]
  },
  {
   "cell_type": "code",
   "execution_count": 42,
   "id": "2a8eed0c",
   "metadata": {},
   "outputs": [],
   "source": [
    "c=ybar-(m*xbar)"
   ]
  },
  {
   "cell_type": "code",
   "execution_count": 44,
   "id": "01309a70",
   "metadata": {},
   "outputs": [
    {
     "data": {
      "text/plain": [
       "74.01"
      ]
     },
     "execution_count": 44,
     "metadata": {},
     "output_type": "execute_result"
    }
   ],
   "source": [
    "c"
   ]
  },
  {
   "cell_type": "code",
   "execution_count": 58,
   "id": "03046eae",
   "metadata": {},
   "outputs": [],
   "source": [
    "#y=mx+c"
   ]
  },
  {
   "cell_type": "code",
   "execution_count": 64,
   "id": "10e5e2b2",
   "metadata": {},
   "outputs": [],
   "source": [
    "yi=[round((m * x[i])+c,2) for i in range(len(x))]"
   ]
  },
  {
   "cell_type": "code",
   "execution_count": 65,
   "id": "c954dc66",
   "metadata": {},
   "outputs": [
    {
     "data": {
      "text/plain": [
       "[33.51, 36.21, 30.81, 40.26, 40.26, 40.26, 44.31, 41.61, 26.76, 20.01]"
      ]
     },
     "execution_count": 65,
     "metadata": {},
     "output_type": "execute_result"
    }
   ],
   "source": [
    "yi"
   ]
  },
  {
   "cell_type": "code",
   "execution_count": 66,
   "id": "2543923e",
   "metadata": {},
   "outputs": [],
   "source": [
    "#a0=(Exi2.eyi)-(exi.exiyi)/mexi^2-(exi)^2\n",
    "#a1=(mExiyi)-exiEyi/mexi^2-(exi)^2"
   ]
  },
  {
   "cell_type": "code",
   "execution_count": 69,
   "id": "91f81c91",
   "metadata": {},
   "outputs": [],
   "source": [
    "x_x=[x[i] * x[i] for i in range(len(x))]"
   ]
  },
  {
   "cell_type": "code",
   "execution_count": 70,
   "id": "096534c4",
   "metadata": {},
   "outputs": [
    {
     "data": {
      "text/plain": [
       "[900, 784, 1024, 625, 625, 625, 484, 576, 1225, 1600]"
      ]
     },
     "execution_count": 70,
     "metadata": {},
     "output_type": "execute_result"
    }
   ],
   "source": [
    "x_x"
   ]
  },
  {
   "cell_type": "code",
   "execution_count": 75,
   "id": "76ae3beb",
   "metadata": {},
   "outputs": [],
   "source": [
    "c=sum(x_x)"
   ]
  },
  {
   "cell_type": "code",
   "execution_count": 76,
   "id": "04e38e18",
   "metadata": {},
   "outputs": [
    {
     "data": {
      "text/plain": [
       "8468"
      ]
     },
     "execution_count": 76,
     "metadata": {},
     "output_type": "execute_result"
    }
   ],
   "source": [
    "c"
   ]
  },
  {
   "cell_type": "code",
   "execution_count": 71,
   "id": "ecba6f2e",
   "metadata": {},
   "outputs": [],
   "source": [
    "y_y=[y[i] * y[i] for i in range(len(y))]"
   ]
  },
  {
   "cell_type": "code",
   "execution_count": 72,
   "id": "b229eed5",
   "metadata": {},
   "outputs": [
    {
     "data": {
      "text/plain": [
       "[625, 900, 729, 1600, 1764, 1600, 2500, 2025, 900, 625]"
      ]
     },
     "execution_count": 72,
     "metadata": {},
     "output_type": "execute_result"
    }
   ],
   "source": [
    "y_y"
   ]
  },
  {
   "cell_type": "code",
   "execution_count": 77,
   "id": "cf080c9b",
   "metadata": {},
   "outputs": [],
   "source": [
    "d=sum(y_y)"
   ]
  },
  {
   "cell_type": "code",
   "execution_count": 78,
   "id": "f22577d6",
   "metadata": {},
   "outputs": [
    {
     "data": {
      "text/plain": [
       "13268"
      ]
     },
     "execution_count": 78,
     "metadata": {},
     "output_type": "execute_result"
    }
   ],
   "source": [
    "d"
   ]
  },
  {
   "cell_type": "code",
   "execution_count": 73,
   "id": "ba2b324b",
   "metadata": {},
   "outputs": [],
   "source": [
    "x_y=[x[i] * y[i] for i in range(len(x))]"
   ]
  },
  {
   "cell_type": "code",
   "execution_count": 74,
   "id": "592254bd",
   "metadata": {},
   "outputs": [
    {
     "data": {
      "text/plain": [
       "[750, 840, 864, 1000, 1050, 1000, 1100, 1080, 1050, 1000]"
      ]
     },
     "execution_count": 74,
     "metadata": {},
     "output_type": "execute_result"
    }
   ],
   "source": [
    "x_y"
   ]
  },
  {
   "cell_type": "code",
   "execution_count": 79,
   "id": "98f5d90c",
   "metadata": {},
   "outputs": [],
   "source": [
    "e=sum(x_y)"
   ]
  },
  {
   "cell_type": "code",
   "execution_count": 80,
   "id": "7bedc360",
   "metadata": {},
   "outputs": [
    {
     "data": {
      "text/plain": [
       "9734"
      ]
     },
     "execution_count": 80,
     "metadata": {},
     "output_type": "execute_result"
    }
   ],
   "source": [
    "e"
   ]
  },
  {
   "cell_type": "code",
   "execution_count": 98,
   "id": "bc5d825f",
   "metadata": {},
   "outputs": [],
   "source": [
    "a0=((c*f) - (g*e)) / (10*c - (g*g))"
   ]
  },
  {
   "cell_type": "code",
   "execution_count": 99,
   "id": "3b598f27",
   "metadata": {},
   "outputs": [
    {
     "data": {
      "text/plain": [
       "74.11511789181692"
      ]
     },
     "execution_count": 99,
     "metadata": {},
     "output_type": "execute_result"
    }
   ],
   "source": [
    "a0"
   ]
  },
  {
   "cell_type": "code",
   "execution_count": 100,
   "id": "0848413d",
   "metadata": {},
   "outputs": [],
   "source": [
    "a1=((10*e)-(g*f))/(10*c - (g*g))"
   ]
  },
  {
   "cell_type": "code",
   "execution_count": 101,
   "id": "35593a78",
   "metadata": {},
   "outputs": [
    {
     "data": {
      "text/plain": [
       "-1.3536754507628295"
      ]
     },
     "execution_count": 101,
     "metadata": {},
     "output_type": "execute_result"
    }
   ],
   "source": [
    "a1"
   ]
  },
  {
   "cell_type": "code",
   "execution_count": 104,
   "id": "885d7150",
   "metadata": {},
   "outputs": [],
   "source": [
    "linear=[round((a1 * x[i])+a0,2) for i in range(len(x))]"
   ]
  },
  {
   "cell_type": "code",
   "execution_count": 105,
   "id": "8f386226",
   "metadata": {},
   "outputs": [
    {
     "data": {
      "text/plain": [
       "[33.5, 36.21, 30.8, 40.27, 40.27, 40.27, 44.33, 41.63, 26.74, 19.97]"
      ]
     },
     "execution_count": 105,
     "metadata": {},
     "output_type": "execute_result"
    }
   ],
   "source": [
    "linear"
   ]
  },
  {
   "cell_type": "code",
   "execution_count": 106,
   "id": "6457f008",
   "metadata": {},
   "outputs": [],
   "source": [
    "import matplotlib.pyplot as plt \n"
   ]
  },
  {
   "cell_type": "code",
   "execution_count": 112,
   "id": "5060807b",
   "metadata": {},
   "outputs": [
    {
     "data": {
      "text/plain": [
       "[<matplotlib.lines.Line2D at 0x191f6aa1480>]"
      ]
     },
     "execution_count": 112,
     "metadata": {},
     "output_type": "execute_result"
    },
    {
     "data": {
      "image/png": "[encoded data removed]",
      "text/plain": [
       "<Figure size 432x288 with 1 Axes>"
      ]
     },
     "metadata": {
      "needs_background": "light"
     },
     "output_type": "display_data"
    }
   ],
   "source": [
    "plt.xlabel(x)\n",
    "plt.ylabel(y)\n",
    "plt.scatter(x,y)\n",
    "plt.plot(x,linear)"
   ]
  },
  {
   "cell_type": "code",
   "execution_count": null,
   "id": "2d6615eb",
   "metadata": {},
   "outputs": [],
   "source": []
  }
 ],
 "metadata": {
  "kernelspec": {
   "display_name": "Python 3 (ipykernel)",
   "language": "python",
   "name": "python3"
  },
  "language_info": {
   "codemirror_mode": {
    "name": "ipython",
    "version": 3
   },
   "file_extension": ".py",
   "mimetype": "text/x-python",
   "name": "python",
   "nbconvert_exporter": "python",
   "pygments_lexer": "ipython3",
   "version": "3.10.4"
  }
 },
 "nbformat": 4,
 "nbformat_minor": 5
}
